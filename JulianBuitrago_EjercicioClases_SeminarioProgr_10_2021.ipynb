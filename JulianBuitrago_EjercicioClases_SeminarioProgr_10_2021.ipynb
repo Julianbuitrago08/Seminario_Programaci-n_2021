{
 "cells": [
  {
   "cell_type": "code",
   "execution_count": 15,
   "metadata": {},
   "outputs": [],
   "source": [
    "# Julian Buitrago\n",
    "# Octubre 2021\n",
    "\n",
    "# Programa para crear una clase basandonos en caracteristicas humanas\n",
    "\n",
    "class Humano(): \n",
    "    def __init__(self, nombre, edad, ocupacion,ciudad,estrato): #Definimos los atributos de entrada\n",
    "        self.nombre = nombre \n",
    "        self.edad = edad \n",
    "        self.ocupacion = ocupacion \n",
    "        self.ciudad = ciudad\n",
    "        self.estrato = estrato\n",
    "\n",
    "    def presentar(self):\n",
    "        print(f'Mi nombre es {self.nombre}, tengo {self.edad} años, mi ocupación es {self.ocupacion}, vivo en la ciudad de {self.ciudad} en un estrato {self.estrato}')\n",
    "    \n",
    "    def cambio_ocupacion(self):\n",
    "        self.ocupacion = ocupacion\n",
    "        print(f'{nombre}')\n",
    "        \n",
    "    def envejecer(self,anos=1):\n",
    "        self.edad = self.edad + anos\n",
    "        print(f'{self.nombre} ha envejecido {self.edad} años')\n",
    "    \n",
    "    def vida(self):\n",
    "        x = round((self.edad/77)*100,2)\n",
    "        print(f'{self.nombre} ha vivido el {x}% de su vida partiendo de una expectativa de vida de 77 años en Colombia')\n",
    "        \n",
    "    def trabajo(self):\n",
    "        print(f'{self.nombre} tiene el trabajo de {self.ocupacion}')\n",
    "\n",
    "    def ciudad_vivienda(self):\n",
    "        print(f'{self.nombre} vive en la ciudad de {self.ciudad}')\n",
    "    \n",
    "    def huesos(self):\n",
    "        huesos = 206\n",
    "        print(f'{self.nombre} tiene en promedio {huesos} huesos en su cuerpo')\n",
    "\n",
    "    def tiempo_trafico(self):\n",
    "        tiempo_trafico_bogota = 51.97\n",
    "        tiempo_trafico_medellin = 39.18\n",
    "        \n",
    "        if self.ciudad =='Bogotá' or 'bogotá' or 'bogota' or 'Bogota':\n",
    "            print(f'{self.nombre} en promedio tarda {tiempo_trafico_bogota} minutos atrapado en el tráfico en {self.ciudad}')\n",
    "        elif self.ciudad =='Medellin' or 'medellin':\n",
    "            print(f'{self.nombre} en promedio tarda {tiempo_trafico_medellin} minutos atrapado en el tráfico en {self.ciudad}')\n",
    "        else:\n",
    "            print(f'{self.nombre} no tiene información suficiente para conocer cuanto tiempo tarda en estar atrapado en tráfico')\n",
    "\n",
    "# Tiempo trafico, fuente: https://www.infobae.com/america/colombia/2021/09/21/confirmado-los-trancones-en-bogota-son-los-peores-de-toda-sudamerica/       \n",
    "# Número de huesos en el cuerpo humano, fuente https://www.saberespractico.com/anatomia/cuantos-huesos-tenemos/\n",
    "# La esperanza de vida es en colombia es de 77 años, fuente https://datos.bancomundial.org/indicator/SP.DYN.LE00.IN?locations=CO"
   ]
  },
  {
   "cell_type": "code",
   "execution_count": 16,
   "metadata": {},
   "outputs": [],
   "source": [
    "Persona_1 = Humano('Julian', 25,'Operational Excellence Specialist','Bogotá',4) #Instancia 1"
   ]
  },
  {
   "cell_type": "code",
   "execution_count": 17,
   "metadata": {},
   "outputs": [
    {
     "name": "stdout",
     "output_type": "stream",
     "text": [
      "Mi nombre es Julian, tengo 25 años, mi ocupación es Operational Excellence Specialist, vivo en la ciudad de Bogotá en un estrato 4\n"
     ]
    }
   ],
   "source": [
    "Persona_1.presentar()"
   ]
  },
  {
   "cell_type": "code",
   "execution_count": 18,
   "metadata": {},
   "outputs": [
    {
     "name": "stdout",
     "output_type": "stream",
     "text": [
      "Julian ha vivido el 32.47% de su vida partiendo de una expectativa de vida de 77 años en Colombia\n"
     ]
    }
   ],
   "source": [
    "Persona_1.vida()"
   ]
  },
  {
   "cell_type": "code",
   "execution_count": 19,
   "metadata": {},
   "outputs": [
    {
     "name": "stdout",
     "output_type": "stream",
     "text": [
      "Julian tiene el trabajo de Operational Excellence Specialist\n"
     ]
    }
   ],
   "source": [
    "Persona_1.trabajo()"
   ]
  },
  {
   "cell_type": "code",
   "execution_count": 20,
   "metadata": {},
   "outputs": [
    {
     "name": "stdout",
     "output_type": "stream",
     "text": [
      "Julian vive en la ciudad de Bogotá\n"
     ]
    }
   ],
   "source": [
    "Persona_1.ciudad_vivienda()"
   ]
  },
  {
   "cell_type": "code",
   "execution_count": 21,
   "metadata": {
    "scrolled": true
   },
   "outputs": [
    {
     "name": "stdout",
     "output_type": "stream",
     "text": [
      "Julian en promedio tarda 51.97 minutos atrapado en el tráfico en Bogotá\n"
     ]
    }
   ],
   "source": [
    "Persona_1.tiempo_trafico()"
   ]
  },
  {
   "cell_type": "code",
   "execution_count": 22,
   "metadata": {
    "scrolled": true
   },
   "outputs": [
    {
     "name": "stdout",
     "output_type": "stream",
     "text": [
      "Julian tiene en promedio 206 huesos en su cuerpo\n"
     ]
    }
   ],
   "source": [
    "Persona_1.huesos()"
   ]
  },
  {
   "cell_type": "code",
   "execution_count": 23,
   "metadata": {},
   "outputs": [
    {
     "name": "stdout",
     "output_type": "stream",
     "text": [
      "Julian ha envejecido 26 años\n"
     ]
    }
   ],
   "source": [
    "Persona_1.envejecer()"
   ]
  },
  {
   "cell_type": "code",
   "execution_count": 24,
   "metadata": {},
   "outputs": [
    {
     "name": "stdout",
     "output_type": "stream",
     "text": [
      "Julian ha vivido el 33.77% de su vida partiendo de una expectativa de vida de 77 años en Colombia\n"
     ]
    }
   ],
   "source": [
    "Persona_1.vida()"
   ]
  },
  {
   "cell_type": "code",
   "execution_count": 25,
   "metadata": {},
   "outputs": [
    {
     "name": "stdout",
     "output_type": "stream",
     "text": [
      "Julian ha envejecido 27 años\n"
     ]
    }
   ],
   "source": [
    "Persona_1.envejecer()"
   ]
  },
  {
   "cell_type": "code",
   "execution_count": 26,
   "metadata": {},
   "outputs": [
    {
     "name": "stdout",
     "output_type": "stream",
     "text": [
      "Julian ha vivido el 35.06% de su vida partiendo de una expectativa de vida de 77 años en Colombia\n"
     ]
    }
   ],
   "source": [
    "Persona_1.vida()"
   ]
  }
 ],
 "metadata": {
  "kernelspec": {
   "display_name": "Python 3",
   "language": "python",
   "name": "python3"
  },
  "language_info": {
   "codemirror_mode": {
    "name": "ipython",
    "version": 3
   },
   "file_extension": ".py",
   "mimetype": "text/x-python",
   "name": "python",
   "nbconvert_exporter": "python",
   "pygments_lexer": "ipython3",
   "version": "3.8.5"
  }
 },
 "nbformat": 4,
 "nbformat_minor": 4
}
